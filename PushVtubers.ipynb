{
 "cells": [
  {
   "cell_type": "code",
   "execution_count": 1,
   "metadata": {},
   "outputs": [],
   "source": [
    "import csv\n",
    "\n",
    "with open('./vtubers.csv', \"rt\", encoding=\"utf8\") as csv_file:\n",
    "    csv_reader = csv.reader(csv_file, delimiter=',')\n",
    "    headers = next(csv_reader, None)\n",
    "    csvarr = []\n",
    "    for row in csv_reader:\n",
    "        dic = {}\n",
    "        for i in range(7):\n",
    "            if i == 5:\n",
    "                if not row[5] == \"\" and not row[7] == \"\":\n",
    "                    dic[headers[i]] = [row[5],row[7]]\n",
    "                elif row[5] == \"\" and row[7] != \"\":\n",
    "                    dic[headers[i]] = [row[7]]\n",
    "                elif row[5] != \"\" and row[7] == \"\":\n",
    "                    dic[headers[i]] = [row[5]]\n",
    "                else:\n",
    "                    dic[headers[i]] = []\n",
    "            else:\n",
    "                dic[headers[i]]=row[i]\n",
    "        dic['token'] = 'Shirakami Cierra Futaba'\n",
    "        csvarr.append(dic)\n",
    "        "
   ]
  },
  {
   "cell_type": "code",
   "execution_count": 2,
   "metadata": {},
   "outputs": [],
   "source": [
    "original = open('parsed.txt','r', encoding=\"utf8\")\n",
    "lines = original.readlines()\n",
    "txtarr = []\n",
    "for i in range(0,len(lines),3):\n",
    "    name = \"\".join(lines[i+2].split(' ')[1:]).replace('\\n','')\n",
    "    enname = lines[i].replace('\\n','')\n",
    "    youtubeId = lines[i+1].split(' ')[0].replace('\\n','')\n",
    "    twitterId = lines[i+2].split(' ')[0].replace('\\n','')\n",
    "    txtarr.append({\n",
    "        'name': name,\n",
    "        'enname': enname,\n",
    "        'youtubeId': youtubeId,\n",
    "        'twitterId': twitterId,\n",
    "        'biliId': '0',\n",
    "        'tags': [],\n",
    "        'thumbnailSource': 'twitter',\n",
    "        'token': 'Shirakami Cierra Futaba'\n",
    "    })\n"
   ]
  },
  {
   "cell_type": "code",
   "execution_count": 3,
   "metadata": {},
   "outputs": [],
   "source": [
    "youtubeId = []\n",
    "for i in csvarr:\n",
    "    youtubeId.append(i['youtubeId'])\n",
    "for i in txtarr:\n",
    "    if(i['youtubeId'] in youtubeId):\n",
    "        print(i['youtubeId'])"
   ]
  },
  {
   "cell_type": "code",
   "execution_count": 4,
   "metadata": {},
   "outputs": [],
   "source": [
    "arr = csvarr + txtarr\n",
    "arr.sort(key=lambda x: x['enname'])\n",
    "import json\n",
    "with open('vtubers.json', 'w') as f:\n",
    "    json.dump(arr, f)"
   ]
  },
  {
   "cell_type": "code",
   "execution_count": 5,
   "metadata": {},
   "outputs": [],
   "source": [
    "import requests\n",
    "requests.delete(\"https://daredemodaisuki.herokuapp.com/api/vtubers/all?token=Shirakami Cierra Futaba\")\n",
    "for i in arr:\n",
    "    r = requests.post(\"https://daredemodaisuki.herokuapp.com/api/vtubers\", data=i)"
   ]
  },
  {
   "cell_type": "code",
   "execution_count": null,
   "metadata": {},
   "outputs": [],
   "source": []
  }
 ],
 "metadata": {
  "kernelspec": {
   "display_name": "Python 3",
   "language": "python",
   "name": "python3"
  },
  "language_info": {
   "codemirror_mode": {
    "name": "ipython",
    "version": 3
   },
   "file_extension": ".py",
   "mimetype": "text/x-python",
   "name": "python",
   "nbconvert_exporter": "python",
   "pygments_lexer": "ipython3",
   "version": "3.7.1"
  }
 },
 "nbformat": 4,
 "nbformat_minor": 2
}
